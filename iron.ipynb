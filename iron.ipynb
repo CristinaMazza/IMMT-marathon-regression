{
 "cells": [
  {
   "cell_type": "code",
   "execution_count": 54,
   "metadata": {},
   "outputs": [],
   "source": [
    "import pandas as pd\n",
    "import numpy as np\n",
    "from datetime import datetime\n",
    "import time\n",
    "from sklearn import linear_model\n",
    "from sklearn.linear_model import LinearRegression\n",
    "\n",
    "pd.plotting.register_matplotlib_converters() \n",
    "%matplotlib inline"
   ]
  },
  {
   "cell_type": "code",
   "execution_count": 55,
   "metadata": {},
   "outputs": [],
   "source": [
    "marathon = pd.read_csv('activity2022csv.csv')"
   ]
  },
  {
   "cell_type": "code",
   "execution_count": 56,
   "metadata": {},
   "outputs": [
    {
     "data": {
      "text/html": [
       "<div>\n",
       "<style scoped>\n",
       "    .dataframe tbody tr th:only-of-type {\n",
       "        vertical-align: middle;\n",
       "    }\n",
       "\n",
       "    .dataframe tbody tr th {\n",
       "        vertical-align: top;\n",
       "    }\n",
       "\n",
       "    .dataframe thead th {\n",
       "        text-align: right;\n",
       "    }\n",
       "</style>\n",
       "<table border=\"1\" class=\"dataframe\">\n",
       "  <thead>\n",
       "    <tr style=\"text-align: right;\">\n",
       "      <th></th>\n",
       "      <th>Laps</th>\n",
       "      <th>Time</th>\n",
       "      <th>Cumulative Time</th>\n",
       "      <th>Distance</th>\n",
       "      <th>Avg Pace</th>\n",
       "      <th>Avg GAP</th>\n",
       "      <th>Avg HR</th>\n",
       "      <th>Max HR</th>\n",
       "      <th>Total Ascent</th>\n",
       "      <th>Total Descent</th>\n",
       "      <th>...</th>\n",
       "      <th>Avg Vertical Oscillation</th>\n",
       "      <th>Avg Vertical Ratio</th>\n",
       "      <th>Calories</th>\n",
       "      <th>Avg Temperature</th>\n",
       "      <th>Best Pace</th>\n",
       "      <th>Max Run Cadence</th>\n",
       "      <th>Moving Time</th>\n",
       "      <th>Avg Moving Pace</th>\n",
       "      <th>Beers Earned</th>\n",
       "      <th>Beers Earned.1</th>\n",
       "    </tr>\n",
       "  </thead>\n",
       "  <tbody>\n",
       "    <tr>\n",
       "      <th>0</th>\n",
       "      <td>1</td>\n",
       "      <td>6:03.8</td>\n",
       "      <td>6:03.8</td>\n",
       "      <td>1.0</td>\n",
       "      <td>6:04</td>\n",
       "      <td>--</td>\n",
       "      <td>145</td>\n",
       "      <td>153</td>\n",
       "      <td>32</td>\n",
       "      <td>21</td>\n",
       "      <td>...</td>\n",
       "      <td>--</td>\n",
       "      <td>--</td>\n",
       "      <td>58</td>\n",
       "      <td>--</td>\n",
       "      <td>4:32</td>\n",
       "      <td>170</td>\n",
       "      <td>6:03.8</td>\n",
       "      <td>6:04</td>\n",
       "      <td>0.4</td>\n",
       "      <td>0.4</td>\n",
       "    </tr>\n",
       "    <tr>\n",
       "      <th>1</th>\n",
       "      <td>2</td>\n",
       "      <td>6:20.7</td>\n",
       "      <td>12:24</td>\n",
       "      <td>1.0</td>\n",
       "      <td>6:21</td>\n",
       "      <td>--</td>\n",
       "      <td>153</td>\n",
       "      <td>160</td>\n",
       "      <td>45</td>\n",
       "      <td>43</td>\n",
       "      <td>...</td>\n",
       "      <td>--</td>\n",
       "      <td>--</td>\n",
       "      <td>66</td>\n",
       "      <td>--</td>\n",
       "      <td>5:23</td>\n",
       "      <td>168</td>\n",
       "      <td>6:20</td>\n",
       "      <td>6:20</td>\n",
       "      <td>0.4</td>\n",
       "      <td>0.4</td>\n",
       "    </tr>\n",
       "    <tr>\n",
       "      <th>2</th>\n",
       "      <td>3</td>\n",
       "      <td>6:19.0</td>\n",
       "      <td>18:43</td>\n",
       "      <td>1.0</td>\n",
       "      <td>6:19</td>\n",
       "      <td>--</td>\n",
       "      <td>153</td>\n",
       "      <td>159</td>\n",
       "      <td>40</td>\n",
       "      <td>29</td>\n",
       "      <td>...</td>\n",
       "      <td>--</td>\n",
       "      <td>--</td>\n",
       "      <td>64</td>\n",
       "      <td>--</td>\n",
       "      <td>4:56</td>\n",
       "      <td>168</td>\n",
       "      <td>6:19.0</td>\n",
       "      <td>6:19</td>\n",
       "      <td>0.5</td>\n",
       "      <td>0.5</td>\n",
       "    </tr>\n",
       "    <tr>\n",
       "      <th>3</th>\n",
       "      <td>4</td>\n",
       "      <td>5:44.6</td>\n",
       "      <td>24:28</td>\n",
       "      <td>1.0</td>\n",
       "      <td>5:45</td>\n",
       "      <td>--</td>\n",
       "      <td>155</td>\n",
       "      <td>165</td>\n",
       "      <td>30</td>\n",
       "      <td>32</td>\n",
       "      <td>...</td>\n",
       "      <td>--</td>\n",
       "      <td>--</td>\n",
       "      <td>59</td>\n",
       "      <td>--</td>\n",
       "      <td>5:08</td>\n",
       "      <td>165</td>\n",
       "      <td>5:44</td>\n",
       "      <td>5:44</td>\n",
       "      <td>0.3</td>\n",
       "      <td>0.3</td>\n",
       "    </tr>\n",
       "    <tr>\n",
       "      <th>4</th>\n",
       "      <td>5</td>\n",
       "      <td>6:37.1</td>\n",
       "      <td>31:05</td>\n",
       "      <td>1.0</td>\n",
       "      <td>6:37</td>\n",
       "      <td>--</td>\n",
       "      <td>154</td>\n",
       "      <td>161</td>\n",
       "      <td>22</td>\n",
       "      <td>43</td>\n",
       "      <td>...</td>\n",
       "      <td>--</td>\n",
       "      <td>--</td>\n",
       "      <td>66</td>\n",
       "      <td>--</td>\n",
       "      <td>5:19</td>\n",
       "      <td>165</td>\n",
       "      <td>6:33</td>\n",
       "      <td>6:33</td>\n",
       "      <td>0.5</td>\n",
       "      <td>0.5</td>\n",
       "    </tr>\n",
       "  </tbody>\n",
       "</table>\n",
       "<p>5 rows × 28 columns</p>\n",
       "</div>"
      ],
      "text/plain": [
       "  Laps    Time Cumulative Time  Distance Avg Pace Avg GAP  Avg HR  Max HR  \\\n",
       "0    1  6:03.8          6:03.8       1.0     6:04      --     145     153   \n",
       "1    2  6:20.7           12:24       1.0     6:21      --     153     160   \n",
       "2    3  6:19.0           18:43       1.0     6:19      --     153     159   \n",
       "3    4  5:44.6           24:28       1.0     5:45      --     155     165   \n",
       "4    5  6:37.1           31:05       1.0     6:37      --     154     161   \n",
       "\n",
       "  Total Ascent Total Descent  ... Avg Vertical Oscillation Avg Vertical Ratio  \\\n",
       "0           32            21  ...                       --                 --   \n",
       "1           45            43  ...                       --                 --   \n",
       "2           40            29  ...                       --                 --   \n",
       "3           30            32  ...                       --                 --   \n",
       "4           22            43  ...                       --                 --   \n",
       "\n",
       "  Calories Avg Temperature  Best Pace Max Run Cadence Moving Time  \\\n",
       "0       58              --       4:32             170      6:03.8   \n",
       "1       66              --       5:23             168        6:20   \n",
       "2       64              --       4:56             168      6:19.0   \n",
       "3       59              --       5:08             165        5:44   \n",
       "4       66              --       5:19             165        6:33   \n",
       "\n",
       "   Avg Moving Pace Beers Earned Beers Earned.1  \n",
       "0             6:04          0.4            0.4  \n",
       "1             6:20          0.4            0.4  \n",
       "2             6:19          0.5            0.5  \n",
       "3             5:44          0.3            0.3  \n",
       "4             6:33          0.5            0.5  \n",
       "\n",
       "[5 rows x 28 columns]"
      ]
     },
     "execution_count": 56,
     "metadata": {},
     "output_type": "execute_result"
    }
   ],
   "source": [
    "marathon.head()"
   ]
  },
  {
   "cell_type": "code",
   "execution_count": 57,
   "metadata": {},
   "outputs": [
    {
     "data": {
      "text/html": [
       "<div>\n",
       "<style scoped>\n",
       "    .dataframe tbody tr th:only-of-type {\n",
       "        vertical-align: middle;\n",
       "    }\n",
       "\n",
       "    .dataframe tbody tr th {\n",
       "        vertical-align: top;\n",
       "    }\n",
       "\n",
       "    .dataframe thead th {\n",
       "        text-align: right;\n",
       "    }\n",
       "</style>\n",
       "<table border=\"1\" class=\"dataframe\">\n",
       "  <thead>\n",
       "    <tr style=\"text-align: right;\">\n",
       "      <th></th>\n",
       "      <th>Laps</th>\n",
       "      <th>Time</th>\n",
       "      <th>Cumulative Time</th>\n",
       "      <th>Distance</th>\n",
       "      <th>Avg Pace</th>\n",
       "      <th>Avg GAP</th>\n",
       "      <th>Avg HR</th>\n",
       "      <th>Max HR</th>\n",
       "      <th>Total Ascent</th>\n",
       "      <th>Total Descent</th>\n",
       "      <th>...</th>\n",
       "      <th>Avg Vertical Oscillation</th>\n",
       "      <th>Avg Vertical Ratio</th>\n",
       "      <th>Calories</th>\n",
       "      <th>Avg Temperature</th>\n",
       "      <th>Best Pace</th>\n",
       "      <th>Max Run Cadence</th>\n",
       "      <th>Moving Time</th>\n",
       "      <th>Avg Moving Pace</th>\n",
       "      <th>Beers Earned</th>\n",
       "      <th>Beers Earned.1</th>\n",
       "    </tr>\n",
       "  </thead>\n",
       "  <tbody>\n",
       "    <tr>\n",
       "      <th>39</th>\n",
       "      <td>40</td>\n",
       "      <td>6:21.8</td>\n",
       "      <td>4:26:00</td>\n",
       "      <td>1.00</td>\n",
       "      <td>6:22</td>\n",
       "      <td>--</td>\n",
       "      <td>153</td>\n",
       "      <td>159</td>\n",
       "      <td>56</td>\n",
       "      <td>53</td>\n",
       "      <td>...</td>\n",
       "      <td>--</td>\n",
       "      <td>--</td>\n",
       "      <td>44</td>\n",
       "      <td>--</td>\n",
       "      <td>5:26</td>\n",
       "      <td>242</td>\n",
       "      <td>6:21.8</td>\n",
       "      <td>6:22</td>\n",
       "      <td>0.3</td>\n",
       "      <td>0.3</td>\n",
       "    </tr>\n",
       "    <tr>\n",
       "      <th>40</th>\n",
       "      <td>41</td>\n",
       "      <td>5:56.4</td>\n",
       "      <td>4:31:56</td>\n",
       "      <td>1.00</td>\n",
       "      <td>5:56</td>\n",
       "      <td>--</td>\n",
       "      <td>157</td>\n",
       "      <td>162</td>\n",
       "      <td>35</td>\n",
       "      <td>34</td>\n",
       "      <td>...</td>\n",
       "      <td>--</td>\n",
       "      <td>--</td>\n",
       "      <td>50</td>\n",
       "      <td>--</td>\n",
       "      <td>4:54</td>\n",
       "      <td>170</td>\n",
       "      <td>5:56</td>\n",
       "      <td>5:56</td>\n",
       "      <td>0.3</td>\n",
       "      <td>0.3</td>\n",
       "    </tr>\n",
       "    <tr>\n",
       "      <th>41</th>\n",
       "      <td>42</td>\n",
       "      <td>5:47.0</td>\n",
       "      <td>4:37:43</td>\n",
       "      <td>1.00</td>\n",
       "      <td>5:47</td>\n",
       "      <td>--</td>\n",
       "      <td>158</td>\n",
       "      <td>164</td>\n",
       "      <td>55</td>\n",
       "      <td>33</td>\n",
       "      <td>...</td>\n",
       "      <td>--</td>\n",
       "      <td>--</td>\n",
       "      <td>48</td>\n",
       "      <td>--</td>\n",
       "      <td>5:26</td>\n",
       "      <td>172</td>\n",
       "      <td>5:47</td>\n",
       "      <td>5:47</td>\n",
       "      <td>0.4</td>\n",
       "      <td>0.4</td>\n",
       "    </tr>\n",
       "    <tr>\n",
       "      <th>42</th>\n",
       "      <td>43</td>\n",
       "      <td>1:41.6</td>\n",
       "      <td>4:39:25</td>\n",
       "      <td>0.32</td>\n",
       "      <td>5:22</td>\n",
       "      <td>--</td>\n",
       "      <td>162</td>\n",
       "      <td>164</td>\n",
       "      <td>11</td>\n",
       "      <td>26</td>\n",
       "      <td>...</td>\n",
       "      <td>--</td>\n",
       "      <td>--</td>\n",
       "      <td>16</td>\n",
       "      <td>--</td>\n",
       "      <td>4:15</td>\n",
       "      <td>168</td>\n",
       "      <td>1:41</td>\n",
       "      <td>5:20</td>\n",
       "      <td>0.1</td>\n",
       "      <td>0.1</td>\n",
       "    </tr>\n",
       "    <tr>\n",
       "      <th>43</th>\n",
       "      <td>Summary</td>\n",
       "      <td>4:39:25</td>\n",
       "      <td>4:39:25</td>\n",
       "      <td>42.32</td>\n",
       "      <td>6:36</td>\n",
       "      <td>NaN</td>\n",
       "      <td>151</td>\n",
       "      <td>165</td>\n",
       "      <td>1,675</td>\n",
       "      <td>1,653</td>\n",
       "      <td>...</td>\n",
       "      <td>NaN</td>\n",
       "      <td>NaN</td>\n",
       "      <td>2,036</td>\n",
       "      <td>NaN</td>\n",
       "      <td>4:15</td>\n",
       "      <td>242</td>\n",
       "      <td>4:37:07</td>\n",
       "      <td>6:33</td>\n",
       "      <td>--</td>\n",
       "      <td>--</td>\n",
       "    </tr>\n",
       "  </tbody>\n",
       "</table>\n",
       "<p>5 rows × 28 columns</p>\n",
       "</div>"
      ],
      "text/plain": [
       "       Laps     Time Cumulative Time  Distance Avg Pace Avg GAP  Avg HR  \\\n",
       "39       40   6:21.8         4:26:00      1.00     6:22      --     153   \n",
       "40       41   5:56.4         4:31:56      1.00     5:56      --     157   \n",
       "41       42   5:47.0         4:37:43      1.00     5:47      --     158   \n",
       "42       43   1:41.6         4:39:25      0.32     5:22      --     162   \n",
       "43  Summary  4:39:25         4:39:25     42.32     6:36     NaN     151   \n",
       "\n",
       "    Max HR Total Ascent Total Descent  ... Avg Vertical Oscillation  \\\n",
       "39     159           56            53  ...                       --   \n",
       "40     162           35            34  ...                       --   \n",
       "41     164           55            33  ...                       --   \n",
       "42     164           11            26  ...                       --   \n",
       "43     165        1,675         1,653  ...                      NaN   \n",
       "\n",
       "   Avg Vertical Ratio Calories Avg Temperature  Best Pace Max Run Cadence  \\\n",
       "39                 --       44              --       5:26             242   \n",
       "40                 --       50              --       4:54             170   \n",
       "41                 --       48              --       5:26             172   \n",
       "42                 --       16              --       4:15             168   \n",
       "43                NaN    2,036             NaN       4:15             242   \n",
       "\n",
       "   Moving Time  Avg Moving Pace Beers Earned Beers Earned.1  \n",
       "39      6:21.8             6:22          0.3            0.3  \n",
       "40        5:56             5:56          0.3            0.3  \n",
       "41        5:47             5:47          0.4            0.4  \n",
       "42        1:41             5:20          0.1            0.1  \n",
       "43     4:37:07             6:33           --             --  \n",
       "\n",
       "[5 rows x 28 columns]"
      ]
     },
     "execution_count": 57,
     "metadata": {},
     "output_type": "execute_result"
    }
   ],
   "source": [
    "marathon.tail()"
   ]
  },
  {
   "cell_type": "code",
   "execution_count": 58,
   "metadata": {},
   "outputs": [
    {
     "data": {
      "text/plain": [
       "Index(['Laps', 'Time', 'Cumulative Time', 'Distance', 'Avg Pace', 'Avg GAP',\n",
       "       'Avg HR', 'Max HR', 'Total Ascent', 'Total Descent', 'Avg Power',\n",
       "       'Avg W/kg', 'Max Power', 'Max W/kg', 'Avg Run Cadence',\n",
       "       'Avg Ground Contact Time', 'Avg GCT Balance', 'Avg Stride Length',\n",
       "       'Avg Vertical Oscillation', 'Avg Vertical Ratio', 'Calories',\n",
       "       'Avg Temperature', 'Best Pace', 'Max Run Cadence', 'Moving Time',\n",
       "       'Avg Moving Pace', 'Beers Earned', 'Beers Earned.1'],\n",
       "      dtype='object')"
      ]
     },
     "execution_count": 58,
     "metadata": {},
     "output_type": "execute_result"
    }
   ],
   "source": [
    "marathon.columns"
   ]
  },
  {
   "cell_type": "code",
   "execution_count": 59,
   "metadata": {},
   "outputs": [
    {
     "data": {
      "text/plain": [
       "Laps                         object\n",
       "Time                         object\n",
       "Cumulative Time              object\n",
       "Distance                    float64\n",
       "Avg Pace                     object\n",
       "Avg GAP                      object\n",
       "Avg HR                        int64\n",
       "Max HR                        int64\n",
       "Total Ascent                 object\n",
       "Total Descent                object\n",
       "Avg Power                    object\n",
       "Avg W/kg                     object\n",
       "Max Power                    object\n",
       "Max W/kg                     object\n",
       "Avg Run Cadence               int64\n",
       "Avg Ground Contact Time      object\n",
       "Avg GCT Balance              object\n",
       "Avg Stride Length           float64\n",
       "Avg Vertical Oscillation     object\n",
       "Avg Vertical Ratio           object\n",
       "Calories                     object\n",
       "Avg Temperature              object\n",
       "Best Pace                    object\n",
       "Max Run Cadence               int64\n",
       "Moving Time                  object\n",
       "Avg Moving Pace              object\n",
       "Beers Earned                 object\n",
       "Beers Earned.1               object\n",
       "dtype: object"
      ]
     },
     "execution_count": 59,
     "metadata": {},
     "output_type": "execute_result"
    }
   ],
   "source": [
    "marathon.dtypes"
   ]
  },
  {
   "cell_type": "code",
   "execution_count": 60,
   "metadata": {},
   "outputs": [
    {
     "data": {
      "text/plain": [
       "150.8409090909091"
      ]
     },
     "execution_count": 60,
     "metadata": {},
     "output_type": "execute_result"
    }
   ],
   "source": [
    "marathon['Avg HR'].mean()"
   ]
  },
  {
   "cell_type": "code",
   "execution_count": 61,
   "metadata": {},
   "outputs": [
    {
     "data": {
      "text/plain": [
       "count     44.000000\n",
       "mean     150.840909\n",
       "std        4.040166\n",
       "min      144.000000\n",
       "25%      148.000000\n",
       "50%      150.500000\n",
       "75%      154.000000\n",
       "max      162.000000\n",
       "Name: Avg HR, dtype: float64"
      ]
     },
     "execution_count": 61,
     "metadata": {},
     "output_type": "execute_result"
    }
   ],
   "source": [
    "marathon['Avg HR'].describe()"
   ]
  },
  {
   "cell_type": "code",
   "execution_count": 62,
   "metadata": {},
   "outputs": [
    {
     "data": {
      "text/plain": [
       "count     44\n",
       "unique    29\n",
       "top       40\n",
       "freq       3\n",
       "Name: Total Ascent, dtype: object"
      ]
     },
     "execution_count": 62,
     "metadata": {},
     "output_type": "execute_result"
    }
   ],
   "source": [
    "marathon['Total Ascent'].describe()"
   ]
  },
  {
   "cell_type": "code",
   "execution_count": 63,
   "metadata": {},
   "outputs": [],
   "source": [
    "marathon = pd.read_csv('activity2022csv.csv')"
   ]
  },
  {
   "cell_type": "code",
   "execution_count": 64,
   "metadata": {},
   "outputs": [],
   "source": [
    "marathon = marathon.drop([marathon.index[43]])"
   ]
  },
  {
   "cell_type": "code",
   "execution_count": 96,
   "metadata": {},
   "outputs": [],
   "source": [
    "marathon['Laps'] = pd.to_numeric(marathon['Laps'])\n",
    "marathon['Total Ascent'] = pd.to_numeric(marathon['Total Ascent'])\n",
    "marathon['Total Descent'] = pd.to_numeric(marathon['Total Descent'])\n",
    "marathon['Calories'] = pd.to_numeric(marathon['Calories'])\n",
    "marathon['Beers Earned'] = pd.to_numeric(marathon['Beers Earned'])"
   ]
  },
  {
   "cell_type": "code",
   "execution_count": 97,
   "metadata": {},
   "outputs": [],
   "source": [
    "marathon['Mov Time'] = pd.to_datetime(marathon['Moving Time'])"
   ]
  },
  {
   "cell_type": "code",
   "execution_count": 98,
   "metadata": {},
   "outputs": [],
   "source": [
    "#marathon['Mov Time'] = datetime.strptime(marathon['Moving Time'] '%H:%M:%S')"
   ]
  },
  {
   "cell_type": "code",
   "execution_count": 99,
   "metadata": {},
   "outputs": [
    {
     "data": {
      "text/plain": [
       "Laps                                 int64\n",
       "Time                                object\n",
       "Cumulative Time                     object\n",
       "Distance                           float64\n",
       "Avg Pace                            object\n",
       "Avg GAP                             object\n",
       "Avg HR                               int64\n",
       "Max HR                               int64\n",
       "Total Ascent                         int64\n",
       "Total Descent                        int64\n",
       "Avg Power                           object\n",
       "Avg W/kg                            object\n",
       "Max Power                           object\n",
       "Max W/kg                            object\n",
       "Avg Run Cadence                      int64\n",
       "Avg Ground Contact Time             object\n",
       "Avg GCT Balance                     object\n",
       "Avg Stride Length                  float64\n",
       "Avg Vertical Oscillation            object\n",
       "Avg Vertical Ratio                  object\n",
       "Calories                             int64\n",
       "Avg Temperature                     object\n",
       "Best Pace                           object\n",
       "Max Run Cadence                      int64\n",
       "Moving Time                         object\n",
       "Avg Moving Pace                     object\n",
       "Beers Earned                       float64\n",
       "Beers Earned.1                      object\n",
       "Mov Time                    datetime64[ns]\n",
       "Net Ascent                           int64\n",
       "dtype: object"
      ]
     },
     "execution_count": 99,
     "metadata": {},
     "output_type": "execute_result"
    }
   ],
   "source": [
    "marathon.dtypes"
   ]
  },
  {
   "cell_type": "code",
   "execution_count": 175,
   "metadata": {},
   "outputs": [],
   "source": [
    "xy = marathon['Mov Time'].mean()"
   ]
  },
  {
   "cell_type": "code",
   "execution_count": 176,
   "metadata": {},
   "outputs": [
    {
     "name": "stdout",
     "output_type": "stream",
     "text": [
      "06:26:39.767441\n"
     ]
    }
   ],
   "source": [
    "xyz = xy.time()\n",
    "print(xyz)"
   ]
  },
  {
   "cell_type": "code",
   "execution_count": 71,
   "metadata": {},
   "outputs": [],
   "source": [
    "marathon['Net Ascent'] = marathon['Total Ascent']-marathon['Total Descent']"
   ]
  },
  {
   "cell_type": "code",
   "execution_count": 72,
   "metadata": {},
   "outputs": [
    {
     "data": {
      "text/html": [
       "<div>\n",
       "<style scoped>\n",
       "    .dataframe tbody tr th:only-of-type {\n",
       "        vertical-align: middle;\n",
       "    }\n",
       "\n",
       "    .dataframe tbody tr th {\n",
       "        vertical-align: top;\n",
       "    }\n",
       "\n",
       "    .dataframe thead th {\n",
       "        text-align: right;\n",
       "    }\n",
       "</style>\n",
       "<table border=\"1\" class=\"dataframe\">\n",
       "  <thead>\n",
       "    <tr style=\"text-align: right;\">\n",
       "      <th></th>\n",
       "      <th>Laps</th>\n",
       "      <th>Time</th>\n",
       "      <th>Cumulative Time</th>\n",
       "      <th>Distance</th>\n",
       "      <th>Avg Pace</th>\n",
       "      <th>Avg GAP</th>\n",
       "      <th>Avg HR</th>\n",
       "      <th>Max HR</th>\n",
       "      <th>Total Ascent</th>\n",
       "      <th>Total Descent</th>\n",
       "      <th>...</th>\n",
       "      <th>Calories</th>\n",
       "      <th>Avg Temperature</th>\n",
       "      <th>Best Pace</th>\n",
       "      <th>Max Run Cadence</th>\n",
       "      <th>Moving Time</th>\n",
       "      <th>Avg Moving Pace</th>\n",
       "      <th>Beers Earned</th>\n",
       "      <th>Beers Earned.1</th>\n",
       "      <th>Mov Time</th>\n",
       "      <th>Net Ascent</th>\n",
       "    </tr>\n",
       "  </thead>\n",
       "  <tbody>\n",
       "    <tr>\n",
       "      <th>0</th>\n",
       "      <td>1</td>\n",
       "      <td>6:03.8</td>\n",
       "      <td>6:03.8</td>\n",
       "      <td>1.0</td>\n",
       "      <td>6:04</td>\n",
       "      <td>--</td>\n",
       "      <td>145</td>\n",
       "      <td>153</td>\n",
       "      <td>32</td>\n",
       "      <td>21</td>\n",
       "      <td>...</td>\n",
       "      <td>58</td>\n",
       "      <td>--</td>\n",
       "      <td>4:32</td>\n",
       "      <td>170</td>\n",
       "      <td>6:03.8</td>\n",
       "      <td>6:04</td>\n",
       "      <td>0.4</td>\n",
       "      <td>0.4</td>\n",
       "      <td>2023-02-11 06:03:48</td>\n",
       "      <td>11</td>\n",
       "    </tr>\n",
       "    <tr>\n",
       "      <th>1</th>\n",
       "      <td>2</td>\n",
       "      <td>6:20.7</td>\n",
       "      <td>12:24</td>\n",
       "      <td>1.0</td>\n",
       "      <td>6:21</td>\n",
       "      <td>--</td>\n",
       "      <td>153</td>\n",
       "      <td>160</td>\n",
       "      <td>45</td>\n",
       "      <td>43</td>\n",
       "      <td>...</td>\n",
       "      <td>66</td>\n",
       "      <td>--</td>\n",
       "      <td>5:23</td>\n",
       "      <td>168</td>\n",
       "      <td>6:20</td>\n",
       "      <td>6:20</td>\n",
       "      <td>0.4</td>\n",
       "      <td>0.4</td>\n",
       "      <td>2023-02-11 06:20:00</td>\n",
       "      <td>2</td>\n",
       "    </tr>\n",
       "    <tr>\n",
       "      <th>2</th>\n",
       "      <td>3</td>\n",
       "      <td>6:19.0</td>\n",
       "      <td>18:43</td>\n",
       "      <td>1.0</td>\n",
       "      <td>6:19</td>\n",
       "      <td>--</td>\n",
       "      <td>153</td>\n",
       "      <td>159</td>\n",
       "      <td>40</td>\n",
       "      <td>29</td>\n",
       "      <td>...</td>\n",
       "      <td>64</td>\n",
       "      <td>--</td>\n",
       "      <td>4:56</td>\n",
       "      <td>168</td>\n",
       "      <td>6:19.0</td>\n",
       "      <td>6:19</td>\n",
       "      <td>0.5</td>\n",
       "      <td>0.5</td>\n",
       "      <td>2023-02-11 06:19:00</td>\n",
       "      <td>11</td>\n",
       "    </tr>\n",
       "    <tr>\n",
       "      <th>3</th>\n",
       "      <td>4</td>\n",
       "      <td>5:44.6</td>\n",
       "      <td>24:28</td>\n",
       "      <td>1.0</td>\n",
       "      <td>5:45</td>\n",
       "      <td>--</td>\n",
       "      <td>155</td>\n",
       "      <td>165</td>\n",
       "      <td>30</td>\n",
       "      <td>32</td>\n",
       "      <td>...</td>\n",
       "      <td>59</td>\n",
       "      <td>--</td>\n",
       "      <td>5:08</td>\n",
       "      <td>165</td>\n",
       "      <td>5:44</td>\n",
       "      <td>5:44</td>\n",
       "      <td>0.3</td>\n",
       "      <td>0.3</td>\n",
       "      <td>2023-02-11 05:44:00</td>\n",
       "      <td>-2</td>\n",
       "    </tr>\n",
       "    <tr>\n",
       "      <th>4</th>\n",
       "      <td>5</td>\n",
       "      <td>6:37.1</td>\n",
       "      <td>31:05</td>\n",
       "      <td>1.0</td>\n",
       "      <td>6:37</td>\n",
       "      <td>--</td>\n",
       "      <td>154</td>\n",
       "      <td>161</td>\n",
       "      <td>22</td>\n",
       "      <td>43</td>\n",
       "      <td>...</td>\n",
       "      <td>66</td>\n",
       "      <td>--</td>\n",
       "      <td>5:19</td>\n",
       "      <td>165</td>\n",
       "      <td>6:33</td>\n",
       "      <td>6:33</td>\n",
       "      <td>0.5</td>\n",
       "      <td>0.5</td>\n",
       "      <td>2023-02-11 06:33:00</td>\n",
       "      <td>-21</td>\n",
       "    </tr>\n",
       "  </tbody>\n",
       "</table>\n",
       "<p>5 rows × 30 columns</p>\n",
       "</div>"
      ],
      "text/plain": [
       "  Laps    Time Cumulative Time  Distance Avg Pace Avg GAP  Avg HR  Max HR  \\\n",
       "0    1  6:03.8          6:03.8       1.0     6:04      --     145     153   \n",
       "1    2  6:20.7           12:24       1.0     6:21      --     153     160   \n",
       "2    3  6:19.0           18:43       1.0     6:19      --     153     159   \n",
       "3    4  5:44.6           24:28       1.0     5:45      --     155     165   \n",
       "4    5  6:37.1           31:05       1.0     6:37      --     154     161   \n",
       "\n",
       "   Total Ascent  Total Descent  ... Calories Avg Temperature Best Pace  \\\n",
       "0            32             21  ...       58              --      4:32   \n",
       "1            45             43  ...       66              --      5:23   \n",
       "2            40             29  ...       64              --      4:56   \n",
       "3            30             32  ...       59              --      5:08   \n",
       "4            22             43  ...       66              --      5:19   \n",
       "\n",
       "  Max Run Cadence  Moving Time Avg Moving Pace Beers Earned  Beers Earned.1  \\\n",
       "0             170       6:03.8            6:04          0.4             0.4   \n",
       "1             168         6:20            6:20          0.4             0.4   \n",
       "2             168       6:19.0            6:19          0.5             0.5   \n",
       "3             165         5:44            5:44          0.3             0.3   \n",
       "4             165         6:33            6:33          0.5             0.5   \n",
       "\n",
       "             Mov Time Net Ascent  \n",
       "0 2023-02-11 06:03:48         11  \n",
       "1 2023-02-11 06:20:00          2  \n",
       "2 2023-02-11 06:19:00         11  \n",
       "3 2023-02-11 05:44:00         -2  \n",
       "4 2023-02-11 06:33:00        -21  \n",
       "\n",
       "[5 rows x 30 columns]"
      ]
     },
     "execution_count": 72,
     "metadata": {},
     "output_type": "execute_result"
    }
   ],
   "source": [
    "marathon.head()"
   ]
  },
  {
   "cell_type": "code",
   "execution_count": 73,
   "metadata": {},
   "outputs": [
    {
     "data": {
      "text/plain": [
       "<matplotlib.axes._subplots.AxesSubplot at 0x7fece7e2a690>"
      ]
     },
     "execution_count": 73,
     "metadata": {},
     "output_type": "execute_result"
    },
    {
     "data": {
      "image/png": "[encoded data removed]",
      "text/plain": [
       "<Figure size 432x288 with 1 Axes>"
      ]
     },
     "metadata": {
      "needs_background": "light"
     },
     "output_type": "display_data"
    }
   ],
   "source": [
    "marathon['Avg HR'].plot(kind='line')"
   ]
  },
  {
   "cell_type": "code",
   "execution_count": 74,
   "metadata": {},
   "outputs": [
    {
     "data": {
      "text/html": [
       "<div>\n",
       "<style scoped>\n",
       "    .dataframe tbody tr th:only-of-type {\n",
       "        vertical-align: middle;\n",
       "    }\n",
       "\n",
       "    .dataframe tbody tr th {\n",
       "        vertical-align: top;\n",
       "    }\n",
       "\n",
       "    .dataframe thead th {\n",
       "        text-align: right;\n",
       "    }\n",
       "</style>\n",
       "<table border=\"1\" class=\"dataframe\">\n",
       "  <thead>\n",
       "    <tr style=\"text-align: right;\">\n",
       "      <th></th>\n",
       "      <th>Laps</th>\n",
       "      <th>Time</th>\n",
       "      <th>Cumulative Time</th>\n",
       "      <th>Distance</th>\n",
       "      <th>Avg Pace</th>\n",
       "      <th>Avg GAP</th>\n",
       "      <th>Avg HR</th>\n",
       "      <th>Max HR</th>\n",
       "      <th>Total Ascent</th>\n",
       "      <th>Total Descent</th>\n",
       "      <th>...</th>\n",
       "      <th>Calories</th>\n",
       "      <th>Avg Temperature</th>\n",
       "      <th>Best Pace</th>\n",
       "      <th>Max Run Cadence</th>\n",
       "      <th>Moving Time</th>\n",
       "      <th>Avg Moving Pace</th>\n",
       "      <th>Beers Earned</th>\n",
       "      <th>Beers Earned.1</th>\n",
       "      <th>Mov Time</th>\n",
       "      <th>Net Ascent</th>\n",
       "    </tr>\n",
       "  </thead>\n",
       "  <tbody>\n",
       "    <tr>\n",
       "      <th>38</th>\n",
       "      <td>39</td>\n",
       "      <td>6:23.0</td>\n",
       "      <td>4:19:38</td>\n",
       "      <td>1.00</td>\n",
       "      <td>6:23</td>\n",
       "      <td>--</td>\n",
       "      <td>153</td>\n",
       "      <td>159</td>\n",
       "      <td>50</td>\n",
       "      <td>56</td>\n",
       "      <td>...</td>\n",
       "      <td>47</td>\n",
       "      <td>--</td>\n",
       "      <td>5:35</td>\n",
       "      <td>168</td>\n",
       "      <td>6:23.0</td>\n",
       "      <td>6:23</td>\n",
       "      <td>0.3</td>\n",
       "      <td>0.3</td>\n",
       "      <td>2023-02-11 06:23:00</td>\n",
       "      <td>-6</td>\n",
       "    </tr>\n",
       "    <tr>\n",
       "      <th>39</th>\n",
       "      <td>40</td>\n",
       "      <td>6:21.8</td>\n",
       "      <td>4:26:00</td>\n",
       "      <td>1.00</td>\n",
       "      <td>6:22</td>\n",
       "      <td>--</td>\n",
       "      <td>153</td>\n",
       "      <td>159</td>\n",
       "      <td>56</td>\n",
       "      <td>53</td>\n",
       "      <td>...</td>\n",
       "      <td>44</td>\n",
       "      <td>--</td>\n",
       "      <td>5:26</td>\n",
       "      <td>242</td>\n",
       "      <td>6:21.8</td>\n",
       "      <td>6:22</td>\n",
       "      <td>0.3</td>\n",
       "      <td>0.3</td>\n",
       "      <td>2023-02-11 06:21:48</td>\n",
       "      <td>3</td>\n",
       "    </tr>\n",
       "    <tr>\n",
       "      <th>40</th>\n",
       "      <td>41</td>\n",
       "      <td>5:56.4</td>\n",
       "      <td>4:31:56</td>\n",
       "      <td>1.00</td>\n",
       "      <td>5:56</td>\n",
       "      <td>--</td>\n",
       "      <td>157</td>\n",
       "      <td>162</td>\n",
       "      <td>35</td>\n",
       "      <td>34</td>\n",
       "      <td>...</td>\n",
       "      <td>50</td>\n",
       "      <td>--</td>\n",
       "      <td>4:54</td>\n",
       "      <td>170</td>\n",
       "      <td>5:56</td>\n",
       "      <td>5:56</td>\n",
       "      <td>0.3</td>\n",
       "      <td>0.3</td>\n",
       "      <td>2023-02-11 05:56:00</td>\n",
       "      <td>1</td>\n",
       "    </tr>\n",
       "    <tr>\n",
       "      <th>41</th>\n",
       "      <td>42</td>\n",
       "      <td>5:47.0</td>\n",
       "      <td>4:37:43</td>\n",
       "      <td>1.00</td>\n",
       "      <td>5:47</td>\n",
       "      <td>--</td>\n",
       "      <td>158</td>\n",
       "      <td>164</td>\n",
       "      <td>55</td>\n",
       "      <td>33</td>\n",
       "      <td>...</td>\n",
       "      <td>48</td>\n",
       "      <td>--</td>\n",
       "      <td>5:26</td>\n",
       "      <td>172</td>\n",
       "      <td>5:47</td>\n",
       "      <td>5:47</td>\n",
       "      <td>0.4</td>\n",
       "      <td>0.4</td>\n",
       "      <td>2023-02-11 05:47:00</td>\n",
       "      <td>22</td>\n",
       "    </tr>\n",
       "    <tr>\n",
       "      <th>42</th>\n",
       "      <td>43</td>\n",
       "      <td>1:41.6</td>\n",
       "      <td>4:39:25</td>\n",
       "      <td>0.32</td>\n",
       "      <td>5:22</td>\n",
       "      <td>--</td>\n",
       "      <td>162</td>\n",
       "      <td>164</td>\n",
       "      <td>11</td>\n",
       "      <td>26</td>\n",
       "      <td>...</td>\n",
       "      <td>16</td>\n",
       "      <td>--</td>\n",
       "      <td>4:15</td>\n",
       "      <td>168</td>\n",
       "      <td>1:41</td>\n",
       "      <td>5:20</td>\n",
       "      <td>0.1</td>\n",
       "      <td>0.1</td>\n",
       "      <td>2023-02-11 01:41:00</td>\n",
       "      <td>-15</td>\n",
       "    </tr>\n",
       "  </tbody>\n",
       "</table>\n",
       "<p>5 rows × 30 columns</p>\n",
       "</div>"
      ],
      "text/plain": [
       "   Laps    Time Cumulative Time  Distance Avg Pace Avg GAP  Avg HR  Max HR  \\\n",
       "38   39  6:23.0         4:19:38      1.00     6:23      --     153     159   \n",
       "39   40  6:21.8         4:26:00      1.00     6:22      --     153     159   \n",
       "40   41  5:56.4         4:31:56      1.00     5:56      --     157     162   \n",
       "41   42  5:47.0         4:37:43      1.00     5:47      --     158     164   \n",
       "42   43  1:41.6         4:39:25      0.32     5:22      --     162     164   \n",
       "\n",
       "    Total Ascent  Total Descent  ... Calories Avg Temperature Best Pace  \\\n",
       "38            50             56  ...       47              --      5:35   \n",
       "39            56             53  ...       44              --      5:26   \n",
       "40            35             34  ...       50              --      4:54   \n",
       "41            55             33  ...       48              --      5:26   \n",
       "42            11             26  ...       16              --      4:15   \n",
       "\n",
       "   Max Run Cadence  Moving Time Avg Moving Pace Beers Earned  Beers Earned.1  \\\n",
       "38             168       6:23.0            6:23          0.3             0.3   \n",
       "39             242       6:21.8            6:22          0.3             0.3   \n",
       "40             170         5:56            5:56          0.3             0.3   \n",
       "41             172         5:47            5:47          0.4             0.4   \n",
       "42             168         1:41            5:20          0.1             0.1   \n",
       "\n",
       "              Mov Time Net Ascent  \n",
       "38 2023-02-11 06:23:00         -6  \n",
       "39 2023-02-11 06:21:48          3  \n",
       "40 2023-02-11 05:56:00          1  \n",
       "41 2023-02-11 05:47:00         22  \n",
       "42 2023-02-11 01:41:00        -15  \n",
       "\n",
       "[5 rows x 30 columns]"
      ]
     },
     "execution_count": 74,
     "metadata": {},
     "output_type": "execute_result"
    }
   ],
   "source": [
    "marathon.tail()"
   ]
  },
  {
   "cell_type": "code",
   "execution_count": 75,
   "metadata": {},
   "outputs": [
    {
     "data": {
      "text/plain": [
       "<matplotlib.axes._subplots.AxesSubplot at 0x7fece7c9a410>"
      ]
     },
     "execution_count": 75,
     "metadata": {},
     "output_type": "execute_result"
    },
    {
     "data": {
      "image/png": "[encoded data removed]",
      "text/plain": [
       "<Figure size 432x288 with 1 Axes>"
      ]
     },
     "metadata": {
      "needs_background": "light"
     },
     "output_type": "display_data"
    }
   ],
   "source": [
    "marathon['Mov Time'].plot(kind='line')"
   ]
  },
  {
   "cell_type": "code",
   "execution_count": 76,
   "metadata": {},
   "outputs": [
    {
     "data": {
      "text/plain": [
       "<matplotlib.axes._subplots.AxesSubplot at 0x7fece7facdd0>"
      ]
     },
     "execution_count": 76,
     "metadata": {},
     "output_type": "execute_result"
    },
    {
     "data": {
      "image/png": "[encoded data removed]",
      "text/plain": [
       "<Figure size 432x288 with 1 Axes>"
      ]
     },
     "metadata": {
      "needs_background": "light"
     },
     "output_type": "display_data"
    }
   ],
   "source": [
    "marathon['Net Ascent'].plot(kind='line')"
   ]
  },
  {
   "cell_type": "code",
   "execution_count": 77,
   "metadata": {},
   "outputs": [
    {
     "data": {
      "text/plain": [
       "<matplotlib.axes._subplots.AxesSubplot at 0x7fece889e690>"
      ]
     },
     "execution_count": 77,
     "metadata": {},
     "output_type": "execute_result"
    },
    {
     "data": {
      "image/png": "[encoded data removed]",
      "text/plain": [
       "<Figure size 432x288 with 1 Axes>"
      ]
     },
     "metadata": {
      "needs_background": "light"
     },
     "output_type": "display_data"
    }
   ],
   "source": [
    "marathon['Avg HR'].plot(kind='line')"
   ]
  },
  {
   "cell_type": "code",
   "execution_count": 78,
   "metadata": {},
   "outputs": [
    {
     "data": {
      "text/plain": [
       "<matplotlib.axes._subplots.AxesSubplot at 0x7fece88de4d0>"
      ]
     },
     "execution_count": 78,
     "metadata": {},
     "output_type": "execute_result"
    },
    {
     "data": {
      "image/png": "[encoded data removed]",
      "text/plain": [
       "<Figure size 432x288 with 1 Axes>"
      ]
     },
     "metadata": {
      "needs_background": "light"
     },
     "output_type": "display_data"
    }
   ],
   "source": [
    "marathon.plot.scatter(x='Laps', y='Avg HR', alpha=.1)"
   ]
  },
  {
   "cell_type": "code",
   "execution_count": 169,
   "metadata": {},
   "outputs": [],
   "source": [
    "be = marathon['Beers Earned'] # dependent variable\n",
    "na = marathon[['Net Ascent']] # independent variable\n",
    "sl = marathon['Avg Stride Length'] #another dependent variable\n",
    "hr = marathon['Avg HR'] #another dependent variable\n",
    "td = marathon[['Total Descent']] # independent variable"
   ]
  },
  {
   "cell_type": "code",
   "execution_count": 170,
   "metadata": {},
   "outputs": [
    {
     "data": {
      "text/plain": [
       "LinearRegression(copy_X=True, fit_intercept=True, n_jobs=None, normalize=False)"
      ]
     },
     "execution_count": 170,
     "metadata": {},
     "output_type": "execute_result"
    }
   ],
   "source": [
    "lm = linear_model.LinearRegression()\n",
    "lm.fit(na,be) # fitting the model"
   ]
  },
  {
   "cell_type": "code",
   "execution_count": 171,
   "metadata": {},
   "outputs": [
    {
     "data": {
      "text/plain": [
       "array([0.33139707, 0.31836663, 0.33139707, 0.31257533, 0.28506663,\n",
       "       0.31836663, 0.29809707, 0.30967968, 0.32271011, 0.3111275 ,\n",
       "       0.29230576, 0.32271011, 0.33139707, 0.28796228, 0.33718837,\n",
       "       0.35166664, 0.32994924, 0.29664924, 0.30244054, 0.3111275 ,\n",
       "       0.34442751, 0.29954489, 0.30678402, 0.3386362 , 0.31257533,\n",
       "       0.29664924, 0.30823185, 0.30388837, 0.32126229, 0.29809707,\n",
       "       0.3111275 , 0.32705359, 0.32560576, 0.32994924, 0.32850142,\n",
       "       0.31691881, 0.31981446, 0.32415794, 0.30678402, 0.31981446,\n",
       "       0.31691881, 0.34732316, 0.29375359])"
      ]
     },
     "execution_count": 171,
     "metadata": {},
     "output_type": "execute_result"
    }
   ],
   "source": [
    "lm.predict(na)"
   ]
  },
  {
   "cell_type": "code",
   "execution_count": 172,
   "metadata": {},
   "outputs": [
    {
     "data": {
      "text/plain": [
       "0.039023630537348475"
      ]
     },
     "execution_count": 172,
     "metadata": {},
     "output_type": "execute_result"
    }
   ],
   "source": [
    "lm.score(na, be)"
   ]
  },
  {
   "cell_type": "code",
   "execution_count": 173,
   "metadata": {},
   "outputs": [
    {
     "data": {
      "text/plain": [
       "0.3154709807016286"
      ]
     },
     "execution_count": 173,
     "metadata": {},
     "output_type": "execute_result"
    }
   ],
   "source": [
    "lm.intercept_"
   ]
  },
  {
   "cell_type": "code",
   "execution_count": 174,
   "metadata": {},
   "outputs": [
    {
     "data": {
      "text/plain": [
       "array([0.00144783])"
      ]
     },
     "execution_count": 174,
     "metadata": {},
     "output_type": "execute_result"
    }
   ],
   "source": [
    "lm.coef_"
   ]
  },
  {
   "cell_type": "code",
   "execution_count": 158,
   "metadata": {},
   "outputs": [
    {
     "data": {
      "text/html": [
       "<div>\n",
       "<style scoped>\n",
       "    .dataframe tbody tr th:only-of-type {\n",
       "        vertical-align: middle;\n",
       "    }\n",
       "\n",
       "    .dataframe tbody tr th {\n",
       "        vertical-align: top;\n",
       "    }\n",
       "\n",
       "    .dataframe thead th {\n",
       "        text-align: right;\n",
       "    }\n",
       "</style>\n",
       "<table border=\"1\" class=\"dataframe\">\n",
       "  <thead>\n",
       "    <tr style=\"text-align: right;\">\n",
       "      <th></th>\n",
       "      <th>Net Ascent</th>\n",
       "    </tr>\n",
       "  </thead>\n",
       "  <tbody>\n",
       "    <tr>\n",
       "      <th>count</th>\n",
       "      <td>43.000000</td>\n",
       "    </tr>\n",
       "    <tr>\n",
       "      <th>mean</th>\n",
       "      <td>0.558140</td>\n",
       "    </tr>\n",
       "    <tr>\n",
       "      <th>std</th>\n",
       "      <td>11.112632</td>\n",
       "    </tr>\n",
       "    <tr>\n",
       "      <th>min</th>\n",
       "      <td>-21.000000</td>\n",
       "    </tr>\n",
       "    <tr>\n",
       "      <th>25%</th>\n",
       "      <td>-7.000000</td>\n",
       "    </tr>\n",
       "    <tr>\n",
       "      <th>50%</th>\n",
       "      <td>1.000000</td>\n",
       "    </tr>\n",
       "    <tr>\n",
       "      <th>75%</th>\n",
       "      <td>8.500000</td>\n",
       "    </tr>\n",
       "    <tr>\n",
       "      <th>max</th>\n",
       "      <td>25.000000</td>\n",
       "    </tr>\n",
       "  </tbody>\n",
       "</table>\n",
       "</div>"
      ],
      "text/plain": [
       "       Net Ascent\n",
       "count   43.000000\n",
       "mean     0.558140\n",
       "std     11.112632\n",
       "min    -21.000000\n",
       "25%     -7.000000\n",
       "50%      1.000000\n",
       "75%      8.500000\n",
       "max     25.000000"
      ]
     },
     "execution_count": 158,
     "metadata": {},
     "output_type": "execute_result"
    }
   ],
   "source": [
    "na.describe()"
   ]
  },
  {
   "cell_type": "code",
   "execution_count": 164,
   "metadata": {},
   "outputs": [
    {
     "data": {
      "text/plain": [
       "LinearRegression(copy_X=True, fit_intercept=True, n_jobs=None, normalize=False)"
      ]
     },
     "execution_count": 164,
     "metadata": {},
     "output_type": "execute_result"
    }
   ],
   "source": [
    "lm2 = linear_model.LinearRegression()\n",
    "lm2.fit(na,hr) # fitting the model"
   ]
  },
  {
   "cell_type": "code",
   "execution_count": 165,
   "metadata": {},
   "outputs": [
    {
     "data": {
      "text/plain": [
       "0.0027419384974317618"
      ]
     },
     "execution_count": 165,
     "metadata": {},
     "output_type": "execute_result"
    }
   ],
   "source": [
    "lm2.score(na, hr)"
   ]
  },
  {
   "cell_type": "code",
   "execution_count": 161,
   "metadata": {},
   "outputs": [
    {
     "data": {
      "text/plain": [
       "count    43.000000\n",
       "mean      1.021163\n",
       "std       0.060483\n",
       "min       0.890000\n",
       "25%       0.990000\n",
       "50%       1.030000\n",
       "75%       1.050000\n",
       "max       1.200000\n",
       "Name: Avg Stride Length, dtype: float64"
      ]
     },
     "execution_count": 161,
     "metadata": {},
     "output_type": "execute_result"
    }
   ],
   "source": [
    "sl.describe()"
   ]
  },
  {
   "cell_type": "code",
   "execution_count": 167,
   "metadata": {},
   "outputs": [
    {
     "data": {
      "text/plain": [
       "<matplotlib.axes._subplots.AxesSubplot at 0x7fece92ebb10>"
      ]
     },
     "execution_count": 167,
     "metadata": {},
     "output_type": "execute_result"
    },
    {
     "data": {
      "image/png": "[encoded data removed]",
      "text/plain": [
       "<Figure size 432x288 with 1 Axes>"
      ]
     },
     "metadata": {
      "needs_background": "light"
     },
     "output_type": "display_data"
    }
   ],
   "source": [
    "marathon.plot.scatter(x='Avg Stride Length', y='Avg HR', alpha=.1)"
   ]
  },
  {
   "cell_type": "code",
   "execution_count": 179,
   "metadata": {},
   "outputs": [
    {
     "data": {
      "text/plain": [
       "LinearRegression(copy_X=True, fit_intercept=True, n_jobs=None, normalize=False)"
      ]
     },
     "execution_count": 179,
     "metadata": {},
     "output_type": "execute_result"
    }
   ],
   "source": [
    "lm3 = linear_model.LinearRegression()\n",
    "lm3.fit(td,hr) # fitting the model"
   ]
  },
  {
   "cell_type": "code",
   "execution_count": 180,
   "metadata": {},
   "outputs": [
    {
     "data": {
      "text/plain": [
       "0.05746902391140884"
      ]
     },
     "execution_count": 180,
     "metadata": {},
     "output_type": "execute_result"
    }
   ],
   "source": [
    "lm3.score(td, hr)"
   ]
  },
  {
   "cell_type": "code",
   "execution_count": null,
   "metadata": {},
   "outputs": [],
   "source": []
  }
 ],
 "metadata": {
  "kernelspec": {
   "display_name": "Python 3",
   "language": "python",
   "name": "python3"
  },
  "language_info": {
   "codemirror_mode": {
    "name": "ipython",
    "version": 3
   },
   "file_extension": ".py",
   "mimetype": "text/x-python",
   "name": "python",
   "nbconvert_exporter": "python",
   "pygments_lexer": "ipython3",
   "version": "3.7.6"
  }
 },
 "nbformat": 4,
 "nbformat_minor": 4
}
