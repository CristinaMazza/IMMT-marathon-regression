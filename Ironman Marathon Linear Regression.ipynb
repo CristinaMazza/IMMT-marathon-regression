{
 "cells": [
  {
   "cell_type": "code",
   "execution_count": 118,
   "metadata": {},
   "outputs": [],
   "source": [
    "import pandas as pd\n",
    "import numpy as np\n",
    "\n",
    "from sklearn.linear_model import LinearRegression\n",
    "\n",
    "%matplotlib inline\n"
   ]
  },
  {
   "cell_type": "code",
   "execution_count": 15,
   "metadata": {},
   "outputs": [],
   "source": [
    "# Importing run splits from Garmin Connect and dropping summary and last row (.3km) from dataframe\n",
    "\n",
    "run = pd.read_csv('IMMT_run.csv')\n",
    "run = run.drop([run.index[43]])\n",
    "run = run.drop([run.index[42]])"
   ]
  },
  {
   "cell_type": "code",
   "execution_count": 21,
   "metadata": {},
   "outputs": [],
   "source": [
    "run['Laps'] = pd.to_numeric(run['Laps'])\n",
    "run['Total Ascent'] = pd.to_numeric(run['Total Ascent'])\n",
    "run['Total Descent'] = pd.to_numeric(run['Total Descent'])\n",
    "run['Calories'] = pd.to_numeric(run['Calories'])\n",
    "run['Beers Earned'] = pd.to_numeric(run['Beers Earned'])"
   ]
  },
  {
   "cell_type": "code",
   "execution_count": 54,
   "metadata": {},
   "outputs": [],
   "source": [
    "run['Net Ascent'] = run['Total Ascent'] - run['Total Descent']"
   ]
  },
  {
   "cell_type": "code",
   "execution_count": 33,
   "metadata": {},
   "outputs": [],
   "source": [
    "# as a measure of run economy, using the ratio of pace to HR\n",
    "\n",
    "run['Speed'] = 1/run['Time']*60*60\n",
    "run['Speed'] = run['Speed'].round(2)"
   ]
  },
  {
   "cell_type": "code",
   "execution_count": 39,
   "metadata": {},
   "outputs": [],
   "source": [
    "# as a measure of run economy, using the ratio of pace to HR\n",
    "\n",
    "run['RE'] = run['Speed']/run['Avg HR']*100\n",
    "run['RE'] = run['RE'].round(2)"
   ]
  },
  {
   "cell_type": "code",
   "execution_count": 55,
   "metadata": {},
   "outputs": [
    {
     "data": {
      "text/html": [
       "<div>\n",
       "<style scoped>\n",
       "    .dataframe tbody tr th:only-of-type {\n",
       "        vertical-align: middle;\n",
       "    }\n",
       "\n",
       "    .dataframe tbody tr th {\n",
       "        vertical-align: top;\n",
       "    }\n",
       "\n",
       "    .dataframe thead th {\n",
       "        text-align: right;\n",
       "    }\n",
       "</style>\n",
       "<table border=\"1\" class=\"dataframe\">\n",
       "  <thead>\n",
       "    <tr style=\"text-align: right;\">\n",
       "      <th></th>\n",
       "      <th>Laps</th>\n",
       "      <th>Time</th>\n",
       "      <th>Cumulative Time</th>\n",
       "      <th>Distance</th>\n",
       "      <th>Avg Pace</th>\n",
       "      <th>Avg GAP</th>\n",
       "      <th>Avg HR</th>\n",
       "      <th>Max HR</th>\n",
       "      <th>Total Ascent</th>\n",
       "      <th>Total Descent</th>\n",
       "      <th>...</th>\n",
       "      <th>Best Pace</th>\n",
       "      <th>Max Run Cadence</th>\n",
       "      <th>Moving Time</th>\n",
       "      <th>Avg Moving Pace</th>\n",
       "      <th>Beers Earned</th>\n",
       "      <th>Beers Earned.1</th>\n",
       "      <th>Pace</th>\n",
       "      <th>Speed</th>\n",
       "      <th>RE</th>\n",
       "      <th>Net Ascent</th>\n",
       "    </tr>\n",
       "  </thead>\n",
       "  <tbody>\n",
       "    <tr>\n",
       "      <th>0</th>\n",
       "      <td>1</td>\n",
       "      <td>364</td>\n",
       "      <td>06:03.8</td>\n",
       "      <td>1.0</td>\n",
       "      <td>6:04</td>\n",
       "      <td>--</td>\n",
       "      <td>145</td>\n",
       "      <td>153</td>\n",
       "      <td>32</td>\n",
       "      <td>21</td>\n",
       "      <td>...</td>\n",
       "      <td>4:32</td>\n",
       "      <td>170</td>\n",
       "      <td>06:03.8</td>\n",
       "      <td>6:04</td>\n",
       "      <td>0.4</td>\n",
       "      <td>0.4</td>\n",
       "      <td>9.890110</td>\n",
       "      <td>9.89</td>\n",
       "      <td>6.82</td>\n",
       "      <td>11</td>\n",
       "    </tr>\n",
       "    <tr>\n",
       "      <th>1</th>\n",
       "      <td>2</td>\n",
       "      <td>381</td>\n",
       "      <td>12:24</td>\n",
       "      <td>1.0</td>\n",
       "      <td>6:21</td>\n",
       "      <td>--</td>\n",
       "      <td>153</td>\n",
       "      <td>160</td>\n",
       "      <td>45</td>\n",
       "      <td>43</td>\n",
       "      <td>...</td>\n",
       "      <td>5:23</td>\n",
       "      <td>168</td>\n",
       "      <td>6:20</td>\n",
       "      <td>6:20</td>\n",
       "      <td>0.4</td>\n",
       "      <td>0.4</td>\n",
       "      <td>9.448819</td>\n",
       "      <td>9.45</td>\n",
       "      <td>6.18</td>\n",
       "      <td>2</td>\n",
       "    </tr>\n",
       "    <tr>\n",
       "      <th>2</th>\n",
       "      <td>3</td>\n",
       "      <td>379</td>\n",
       "      <td>18:43</td>\n",
       "      <td>1.0</td>\n",
       "      <td>6:19</td>\n",
       "      <td>--</td>\n",
       "      <td>153</td>\n",
       "      <td>159</td>\n",
       "      <td>40</td>\n",
       "      <td>29</td>\n",
       "      <td>...</td>\n",
       "      <td>4:56</td>\n",
       "      <td>168</td>\n",
       "      <td>06:19.0</td>\n",
       "      <td>6:19</td>\n",
       "      <td>0.5</td>\n",
       "      <td>0.5</td>\n",
       "      <td>9.498681</td>\n",
       "      <td>9.50</td>\n",
       "      <td>6.21</td>\n",
       "      <td>11</td>\n",
       "    </tr>\n",
       "    <tr>\n",
       "      <th>3</th>\n",
       "      <td>4</td>\n",
       "      <td>345</td>\n",
       "      <td>24:28:00</td>\n",
       "      <td>1.0</td>\n",
       "      <td>5:45</td>\n",
       "      <td>--</td>\n",
       "      <td>155</td>\n",
       "      <td>165</td>\n",
       "      <td>30</td>\n",
       "      <td>32</td>\n",
       "      <td>...</td>\n",
       "      <td>5:08</td>\n",
       "      <td>165</td>\n",
       "      <td>5:44</td>\n",
       "      <td>5:44</td>\n",
       "      <td>0.3</td>\n",
       "      <td>0.3</td>\n",
       "      <td>10.434783</td>\n",
       "      <td>10.43</td>\n",
       "      <td>6.73</td>\n",
       "      <td>-2</td>\n",
       "    </tr>\n",
       "    <tr>\n",
       "      <th>4</th>\n",
       "      <td>5</td>\n",
       "      <td>397</td>\n",
       "      <td>31:05:00</td>\n",
       "      <td>1.0</td>\n",
       "      <td>6:37</td>\n",
       "      <td>--</td>\n",
       "      <td>154</td>\n",
       "      <td>161</td>\n",
       "      <td>22</td>\n",
       "      <td>43</td>\n",
       "      <td>...</td>\n",
       "      <td>5:19</td>\n",
       "      <td>165</td>\n",
       "      <td>6:33</td>\n",
       "      <td>6:33</td>\n",
       "      <td>0.5</td>\n",
       "      <td>0.5</td>\n",
       "      <td>9.068010</td>\n",
       "      <td>9.07</td>\n",
       "      <td>5.89</td>\n",
       "      <td>-21</td>\n",
       "    </tr>\n",
       "  </tbody>\n",
       "</table>\n",
       "<p>5 rows × 32 columns</p>\n",
       "</div>"
      ],
      "text/plain": [
       "   Laps  Time Cumulative Time  Distance Avg Pace Avg GAP  Avg HR  Max HR  \\\n",
       "0     1   364         06:03.8       1.0     6:04      --     145     153   \n",
       "1     2   381           12:24       1.0     6:21      --     153     160   \n",
       "2     3   379           18:43       1.0     6:19      --     153     159   \n",
       "3     4   345        24:28:00       1.0     5:45      --     155     165   \n",
       "4     5   397        31:05:00       1.0     6:37      --     154     161   \n",
       "\n",
       "   Total Ascent  Total Descent  ... Best Pace Max Run Cadence Moving Time  \\\n",
       "0            32             21  ...      4:32             170     06:03.8   \n",
       "1            45             43  ...      5:23             168        6:20   \n",
       "2            40             29  ...      4:56             168     06:19.0   \n",
       "3            30             32  ...      5:08             165        5:44   \n",
       "4            22             43  ...      5:19             165        6:33   \n",
       "\n",
       "  Avg Moving Pace  Beers Earned Beers Earned.1       Pace  Speed    RE  \\\n",
       "0            6:04           0.4            0.4   9.890110   9.89  6.82   \n",
       "1            6:20           0.4            0.4   9.448819   9.45  6.18   \n",
       "2            6:19           0.5            0.5   9.498681   9.50  6.21   \n",
       "3            5:44           0.3            0.3  10.434783  10.43  6.73   \n",
       "4            6:33           0.5            0.5   9.068010   9.07  5.89   \n",
       "\n",
       "  Net Ascent  \n",
       "0         11  \n",
       "1          2  \n",
       "2         11  \n",
       "3         -2  \n",
       "4        -21  \n",
       "\n",
       "[5 rows x 32 columns]"
      ]
     },
     "execution_count": 55,
     "metadata": {},
     "output_type": "execute_result"
    }
   ],
   "source": [
    "run.head()"
   ]
  },
  {
   "cell_type": "code",
   "execution_count": 23,
   "metadata": {},
   "outputs": [
    {
     "name": "stdout",
     "output_type": "stream",
     "text": [
      "<class 'pandas.core.frame.DataFrame'>\n",
      "Int64Index: 42 entries, 0 to 41\n",
      "Data columns (total 28 columns):\n",
      " #   Column                    Non-Null Count  Dtype  \n",
      "---  ------                    --------------  -----  \n",
      " 0   Laps                      42 non-null     int64  \n",
      " 1   Time                      42 non-null     int64  \n",
      " 2   Cumulative Time           42 non-null     object \n",
      " 3   Distance                  42 non-null     float64\n",
      " 4   Avg Pace                  42 non-null     object \n",
      " 5   Avg GAP                   42 non-null     object \n",
      " 6   Avg HR                    42 non-null     int64  \n",
      " 7   Max HR                    42 non-null     int64  \n",
      " 8   Total Ascent              42 non-null     int64  \n",
      " 9   Total Descent             42 non-null     int64  \n",
      " 10  Avg Power                 42 non-null     object \n",
      " 11  Avg W/kg                  42 non-null     object \n",
      " 12  Max Power                 42 non-null     object \n",
      " 13  Max W/kg                  42 non-null     object \n",
      " 14  Avg Run Cadence           42 non-null     int64  \n",
      " 15  Avg Ground Contact Time   42 non-null     object \n",
      " 16  Avg GCT Balance           42 non-null     object \n",
      " 17  Avg Stride Length         42 non-null     float64\n",
      " 18  Avg Vertical Oscillation  42 non-null     object \n",
      " 19  Avg Vertical Ratio        42 non-null     object \n",
      " 20  Calories                  42 non-null     int64  \n",
      " 21  Avg Temperature           42 non-null     object \n",
      " 22  Best Pace                 42 non-null     object \n",
      " 23  Max Run Cadence           42 non-null     int64  \n",
      " 24  Moving Time               42 non-null     object \n",
      " 25  Avg Moving Pace           42 non-null     object \n",
      " 26  Beers Earned              42 non-null     float64\n",
      " 27  Beers Earned.1            42 non-null     object \n",
      "dtypes: float64(3), int64(9), object(16)\n",
      "memory usage: 9.5+ KB\n"
     ]
    }
   ],
   "source": [
    "run.info()"
   ]
  },
  {
   "cell_type": "code",
   "execution_count": 43,
   "metadata": {},
   "outputs": [
    {
     "data": {
      "text/html": [
       "<div>\n",
       "<style scoped>\n",
       "    .dataframe tbody tr th:only-of-type {\n",
       "        vertical-align: middle;\n",
       "    }\n",
       "\n",
       "    .dataframe tbody tr th {\n",
       "        vertical-align: top;\n",
       "    }\n",
       "\n",
       "    .dataframe thead th {\n",
       "        text-align: right;\n",
       "    }\n",
       "</style>\n",
       "<table border=\"1\" class=\"dataframe\">\n",
       "  <thead>\n",
       "    <tr style=\"text-align: right;\">\n",
       "      <th></th>\n",
       "      <th>Laps</th>\n",
       "      <th>Time</th>\n",
       "      <th>Distance</th>\n",
       "      <th>Avg HR</th>\n",
       "      <th>Max HR</th>\n",
       "      <th>Total Ascent</th>\n",
       "      <th>Total Descent</th>\n",
       "      <th>Avg Run Cadence</th>\n",
       "      <th>Avg Stride Length</th>\n",
       "      <th>Calories</th>\n",
       "      <th>Max Run Cadence</th>\n",
       "      <th>Beers Earned</th>\n",
       "      <th>Pace</th>\n",
       "      <th>Speed</th>\n",
       "      <th>RE</th>\n",
       "    </tr>\n",
       "  </thead>\n",
       "  <tbody>\n",
       "    <tr>\n",
       "      <th>count</th>\n",
       "      <td>42.000000</td>\n",
       "      <td>42.000000</td>\n",
       "      <td>42.0</td>\n",
       "      <td>42.000000</td>\n",
       "      <td>42.000000</td>\n",
       "      <td>42.000000</td>\n",
       "      <td>42.000000</td>\n",
       "      <td>42.000000</td>\n",
       "      <td>42.000000</td>\n",
       "      <td>42.000000</td>\n",
       "      <td>42.000000</td>\n",
       "      <td>42.000000</td>\n",
       "      <td>42.000000</td>\n",
       "      <td>42.000000</td>\n",
       "      <td>42.000000</td>\n",
       "    </tr>\n",
       "    <tr>\n",
       "      <th>mean</th>\n",
       "      <td>21.500000</td>\n",
       "      <td>396.738095</td>\n",
       "      <td>1.0</td>\n",
       "      <td>150.571429</td>\n",
       "      <td>156.214286</td>\n",
       "      <td>39.690476</td>\n",
       "      <td>38.761905</td>\n",
       "      <td>149.523810</td>\n",
       "      <td>1.016905</td>\n",
       "      <td>48.095238</td>\n",
       "      <td>168.976190</td>\n",
       "      <td>0.321429</td>\n",
       "      <td>9.111576</td>\n",
       "      <td>9.110476</td>\n",
       "      <td>6.047857</td>\n",
       "    </tr>\n",
       "    <tr>\n",
       "      <th>std</th>\n",
       "      <td>12.267844</td>\n",
       "      <td>25.867448</td>\n",
       "      <td>0.0</td>\n",
       "      <td>3.742588</td>\n",
       "      <td>3.917040</td>\n",
       "      <td>12.624962</td>\n",
       "      <td>12.752445</td>\n",
       "      <td>8.267592</td>\n",
       "      <td>0.054302</td>\n",
       "      <td>9.095186</td>\n",
       "      <td>13.656926</td>\n",
       "      <td>0.075015</td>\n",
       "      <td>0.592728</td>\n",
       "      <td>0.592288</td>\n",
       "      <td>0.314321</td>\n",
       "    </tr>\n",
       "    <tr>\n",
       "      <th>min</th>\n",
       "      <td>1.000000</td>\n",
       "      <td>345.000000</td>\n",
       "      <td>1.0</td>\n",
       "      <td>144.000000</td>\n",
       "      <td>150.000000</td>\n",
       "      <td>15.000000</td>\n",
       "      <td>18.000000</td>\n",
       "      <td>129.000000</td>\n",
       "      <td>0.890000</td>\n",
       "      <td>34.000000</td>\n",
       "      <td>162.000000</td>\n",
       "      <td>0.200000</td>\n",
       "      <td>7.792208</td>\n",
       "      <td>7.790000</td>\n",
       "      <td>5.410000</td>\n",
       "    </tr>\n",
       "    <tr>\n",
       "      <th>25%</th>\n",
       "      <td>11.250000</td>\n",
       "      <td>380.000000</td>\n",
       "      <td>1.0</td>\n",
       "      <td>148.000000</td>\n",
       "      <td>153.000000</td>\n",
       "      <td>31.250000</td>\n",
       "      <td>29.250000</td>\n",
       "      <td>145.250000</td>\n",
       "      <td>0.990000</td>\n",
       "      <td>41.000000</td>\n",
       "      <td>164.250000</td>\n",
       "      <td>0.300000</td>\n",
       "      <td>8.743179</td>\n",
       "      <td>8.745000</td>\n",
       "      <td>5.845000</td>\n",
       "    </tr>\n",
       "    <tr>\n",
       "      <th>50%</th>\n",
       "      <td>21.500000</td>\n",
       "      <td>398.000000</td>\n",
       "      <td>1.0</td>\n",
       "      <td>150.000000</td>\n",
       "      <td>155.000000</td>\n",
       "      <td>39.500000</td>\n",
       "      <td>36.000000</td>\n",
       "      <td>150.500000</td>\n",
       "      <td>1.025000</td>\n",
       "      <td>47.000000</td>\n",
       "      <td>166.000000</td>\n",
       "      <td>0.300000</td>\n",
       "      <td>9.045283</td>\n",
       "      <td>9.045000</td>\n",
       "      <td>6.020000</td>\n",
       "    </tr>\n",
       "    <tr>\n",
       "      <th>75%</th>\n",
       "      <td>31.750000</td>\n",
       "      <td>411.750000</td>\n",
       "      <td>1.0</td>\n",
       "      <td>153.750000</td>\n",
       "      <td>159.000000</td>\n",
       "      <td>45.000000</td>\n",
       "      <td>47.500000</td>\n",
       "      <td>156.750000</td>\n",
       "      <td>1.050000</td>\n",
       "      <td>53.750000</td>\n",
       "      <td>168.000000</td>\n",
       "      <td>0.400000</td>\n",
       "      <td>9.473684</td>\n",
       "      <td>9.470000</td>\n",
       "      <td>6.217500</td>\n",
       "    </tr>\n",
       "    <tr>\n",
       "      <th>max</th>\n",
       "      <td>42.000000</td>\n",
       "      <td>462.000000</td>\n",
       "      <td>1.0</td>\n",
       "      <td>158.000000</td>\n",
       "      <td>165.000000</td>\n",
       "      <td>86.000000</td>\n",
       "      <td>77.000000</td>\n",
       "      <td>163.000000</td>\n",
       "      <td>1.170000</td>\n",
       "      <td>66.000000</td>\n",
       "      <td>242.000000</td>\n",
       "      <td>0.500000</td>\n",
       "      <td>10.434783</td>\n",
       "      <td>10.430000</td>\n",
       "      <td>6.820000</td>\n",
       "    </tr>\n",
       "  </tbody>\n",
       "</table>\n",
       "</div>"
      ],
      "text/plain": [
       "            Laps        Time  Distance      Avg HR      Max HR  Total Ascent  \\\n",
       "count  42.000000   42.000000      42.0   42.000000   42.000000     42.000000   \n",
       "mean   21.500000  396.738095       1.0  150.571429  156.214286     39.690476   \n",
       "std    12.267844   25.867448       0.0    3.742588    3.917040     12.624962   \n",
       "min     1.000000  345.000000       1.0  144.000000  150.000000     15.000000   \n",
       "25%    11.250000  380.000000       1.0  148.000000  153.000000     31.250000   \n",
       "50%    21.500000  398.000000       1.0  150.000000  155.000000     39.500000   \n",
       "75%    31.750000  411.750000       1.0  153.750000  159.000000     45.000000   \n",
       "max    42.000000  462.000000       1.0  158.000000  165.000000     86.000000   \n",
       "\n",
       "       Total Descent  Avg Run Cadence  Avg Stride Length   Calories  \\\n",
       "count      42.000000        42.000000          42.000000  42.000000   \n",
       "mean       38.761905       149.523810           1.016905  48.095238   \n",
       "std        12.752445         8.267592           0.054302   9.095186   \n",
       "min        18.000000       129.000000           0.890000  34.000000   \n",
       "25%        29.250000       145.250000           0.990000  41.000000   \n",
       "50%        36.000000       150.500000           1.025000  47.000000   \n",
       "75%        47.500000       156.750000           1.050000  53.750000   \n",
       "max        77.000000       163.000000           1.170000  66.000000   \n",
       "\n",
       "       Max Run Cadence  Beers Earned       Pace      Speed         RE  \n",
       "count        42.000000     42.000000  42.000000  42.000000  42.000000  \n",
       "mean        168.976190      0.321429   9.111576   9.110476   6.047857  \n",
       "std          13.656926      0.075015   0.592728   0.592288   0.314321  \n",
       "min         162.000000      0.200000   7.792208   7.790000   5.410000  \n",
       "25%         164.250000      0.300000   8.743179   8.745000   5.845000  \n",
       "50%         166.000000      0.300000   9.045283   9.045000   6.020000  \n",
       "75%         168.000000      0.400000   9.473684   9.470000   6.217500  \n",
       "max         242.000000      0.500000  10.434783  10.430000   6.820000  "
      ]
     },
     "execution_count": 43,
     "metadata": {},
     "output_type": "execute_result"
    }
   ],
   "source": [
    "run.describe()"
   ]
  },
  {
   "cell_type": "code",
   "execution_count": 117,
   "metadata": {},
   "outputs": [
    {
     "data": {
      "text/plain": [
       "<matplotlib.axes._subplots.AxesSubplot at 0x7fd1a78c7510>"
      ]
     },
     "execution_count": 117,
     "metadata": {},
     "output_type": "execute_result"
    },
    {
     "data": {
      "image/png": "[encoded data removed]",
      "text/plain": [
       "<Figure size 432x288 with 1 Axes>"
      ]
     },
     "metadata": {
      "needs_background": "light"
     },
     "output_type": "display_data"
    }
   ],
   "source": [
    "# When HR runs parallel to power/pace, they are coupled\n",
    "# When HR incrwases for a specific pace, this is called decoupling\n",
    "# While decoupling can be a measure of inadequate fitness\n",
    "# Decoupling can also be triggered by factors such as msucle fatigue, lack of fuel, and altitude\n",
    "# No surprise, decoupling will happen more than 10 hours into a race, but the key is to limit it\n",
    "# RE overtime descreased until the last 5km when I got my \"wings\" from some Red Bull\n",
    "\n",
    "run.plot(kind = 'scatter', x = 'Laps', y = 'RE')"
   ]
  },
  {
   "cell_type": "code",
   "execution_count": 119,
   "metadata": {},
   "outputs": [],
   "source": [
    "# To prevent multicollinearity, speed/pace will be ommited, as it is driven by factors such as stride and cadence\n",
    "# "
   ]
  },
  {
   "cell_type": "code",
   "execution_count": 120,
   "metadata": {},
   "outputs": [],
   "source": [
    "# For the regression model, the independent variables will be stride length (meters), cadence (steps per minute), and ascent (meters)\n",
    "# There may be slight correlation between ascent and the other variables, but let's just assume I did enough hill training for it not to matter "
   ]
  },
  {
   "cell_type": "code",
   "execution_count": null,
   "metadata": {},
   "outputs": [],
   "source": [
    "# Plotting independent variables vs. the dependent variable Avg HR to visually see relationships"
   ]
  },
  {
   "cell_type": "code",
   "execution_count": 121,
   "metadata": {},
   "outputs": [
    {
     "data": {
      "text/plain": [
       "<matplotlib.axes._subplots.AxesSubplot at 0x7fd1a9c74c50>"
      ]
     },
     "execution_count": 121,
     "metadata": {},
     "output_type": "execute_result"
    },
    {
     "data": {
      "image/png": "[encoded data removed]",
      "text/plain": [
       "<Figure size 432x288 with 1 Axes>"
      ]
     },
     "metadata": {
      "needs_background": "light"
     },
     "output_type": "display_data"
    }
   ],
   "source": [
    "run.plot(kind = 'scatter', x = 'Avg Run Cadence', y = 'Avg HR')"
   ]
  },
  {
   "cell_type": "code",
   "execution_count": 52,
   "metadata": {},
   "outputs": [
    {
     "data": {
      "text/plain": [
       "<matplotlib.axes._subplots.AxesSubplot at 0x7fd1a9501650>"
      ]
     },
     "execution_count": 52,
     "metadata": {},
     "output_type": "execute_result"
    },
    {
     "data": {
      "image/png": "[encoded data removed]",
      "text/plain": [
       "<Figure size 432x288 with 1 Axes>"
      ]
     },
     "metadata": {
      "needs_background": "light"
     },
     "output_type": "display_data"
    }
   ],
   "source": [
    "run.plot(kind = 'scatter', x = 'Avg Stride Length', y = 'Avg HR')"
   ]
  },
  {
   "cell_type": "code",
   "execution_count": 56,
   "metadata": {},
   "outputs": [
    {
     "data": {
      "text/plain": [
       "<matplotlib.axes._subplots.AxesSubplot at 0x7fd1a95e4610>"
      ]
     },
     "execution_count": 56,
     "metadata": {},
     "output_type": "execute_result"
    },
    {
     "data": {
      "image/png": "[encoded data removed]",
      "text/plain": [
       "<Figure size 432x288 with 1 Axes>"
      ]
     },
     "metadata": {
      "needs_background": "light"
     },
     "output_type": "display_data"
    }
   ],
   "source": [
    "run.plot(kind = 'scatter', x = 'Net Ascent', y = 'Avg HR')"
   ]
  },
  {
   "cell_type": "code",
   "execution_count": 70,
   "metadata": {},
   "outputs": [
    {
     "data": {
      "text/plain": [
       "Avg HR    150.571429\n",
       "dtype: float64"
      ]
     },
     "execution_count": 70,
     "metadata": {},
     "output_type": "execute_result"
    }
   ],
   "source": [
    "response = 'Avg HR'\n",
    "y = run[[response]]\n",
    "y.mean()"
   ]
  },
  {
   "cell_type": "code",
   "execution_count": 71,
   "metadata": {},
   "outputs": [
    {
     "data": {
      "text/plain": [
       "Total Ascent          39.690476\n",
       "Avg Stride Length      1.016905\n",
       "Avg Run Cadence      149.523810\n",
       "dtype: float64"
      ]
     },
     "execution_count": 71,
     "metadata": {},
     "output_type": "execute_result"
    }
   ],
   "source": [
    "x = run[['Total Ascent', 'Avg Stride Length', 'Avg Run Cadence']]\n",
    "x.mean()"
   ]
  },
  {
   "cell_type": "code",
   "execution_count": 65,
   "metadata": {},
   "outputs": [],
   "source": [
    "model = LinearRegression().fit(x, y)"
   ]
  },
  {
   "cell_type": "code",
   "execution_count": 66,
   "metadata": {},
   "outputs": [
    {
     "data": {
      "text/plain": [
       "array([68.36874056])"
      ]
     },
     "execution_count": 66,
     "metadata": {},
     "output_type": "execute_result"
    }
   ],
   "source": [
    "model.intercept_"
   ]
  },
  {
   "cell_type": "code",
   "execution_count": 67,
   "metadata": {},
   "outputs": [
    {
     "data": {
      "text/plain": [
       "array([[3.07835313e-02, 4.64718352e+01, 2.25538960e-01]])"
      ]
     },
     "execution_count": 67,
     "metadata": {},
     "output_type": "execute_result"
    }
   ],
   "source": [
    "model.coef_"
   ]
  },
  {
   "cell_type": "code",
   "execution_count": null,
   "metadata": {},
   "outputs": [],
   "source": [
    "# y = 68.37 + 0.0308 X Net Ascent + 4.647 * Stride Length + 0.226 X Cadence\n",
    "# This is the model for predicting heart rate, based on the independent variables\n",
    "# I was surprised to see the impact stride length had on HR, given how I expected ascent to be the dominant factor"
   ]
  },
  {
   "cell_type": "code",
   "execution_count": 73,
   "metadata": {},
   "outputs": [
    {
     "data": {
      "text/plain": [
       "150.558152"
      ]
     },
     "execution_count": 73,
     "metadata": {},
     "output_type": "execute_result"
    }
   ],
   "source": [
    "# Testing out the model using average values for ascent, stride length, and cadence\n",
    "\n",
    "68.3687 + 1.222452 + 47.257 + 33.71"
   ]
  },
  {
   "cell_type": "code",
   "execution_count": 74,
   "metadata": {},
   "outputs": [
    {
     "data": {
      "text/plain": [
       "0.4742100850422911"
      ]
     },
     "execution_count": 74,
     "metadata": {},
     "output_type": "execute_result"
    }
   ],
   "source": [
    "model.score(x, y)"
   ]
  },
  {
   "cell_type": "code",
   "execution_count": null,
   "metadata": {},
   "outputs": [],
   "source": [
    "# A little less than half of the variation in speed can be explained by net ascent, stride length, and run cadence\n",
    "# Considering the huge impact of factors such as fatigue, struggling to keep up with fueling,etc, this was better than I expected"
   ]
  },
  {
   "cell_type": "code",
   "execution_count": null,
   "metadata": {},
   "outputs": [],
   "source": [
    "# Generally you'll want to train and test for predictive modelling\n",
    "# I had initially skipped it as I wasn't sure if it'd be worth it for a small dataset, but let's see how it goes\n",
    "# Using 10% of the data as test data"
   ]
  },
  {
   "cell_type": "code",
   "execution_count": 99,
   "metadata": {},
   "outputs": [],
   "source": [
    "from sklearn.model_selection import train_test_split\n",
    "x_train, x_test, y_train, y_test = train_test_split(x, y, test_size=0.1, random_state = 1234) "
   ]
  },
  {
   "cell_type": "code",
   "execution_count": 100,
   "metadata": {},
   "outputs": [],
   "source": [
    "model = LinearRegression().fit(x_train, y_train)"
   ]
  },
  {
   "cell_type": "code",
   "execution_count": 101,
   "metadata": {},
   "outputs": [
    {
     "data": {
      "text/plain": [
       "array([73.94326289])"
      ]
     },
     "execution_count": 101,
     "metadata": {},
     "output_type": "execute_result"
    }
   ],
   "source": [
    "model.intercept_"
   ]
  },
  {
   "cell_type": "code",
   "execution_count": 102,
   "metadata": {},
   "outputs": [
    {
     "data": {
      "text/plain": [
       "array([[2.85932653e-02, 4.20181965e+01, 2.19497591e-01]])"
      ]
     },
     "execution_count": 102,
     "metadata": {},
     "output_type": "execute_result"
    }
   ],
   "source": [
    "model.coef_"
   ]
  },
  {
   "cell_type": "code",
   "execution_count": 103,
   "metadata": {},
   "outputs": [
    {
     "data": {
      "text/plain": [
       "0.5617852925634713"
      ]
     },
     "execution_count": 103,
     "metadata": {},
     "output_type": "execute_result"
    }
   ],
   "source": [
    "model.score(x_test, y_test)"
   ]
  },
  {
   "cell_type": "code",
   "execution_count": 104,
   "metadata": {},
   "outputs": [],
   "source": [
    "y_pred = model.predict(x_test)"
   ]
  },
  {
   "cell_type": "code",
   "execution_count": 105,
   "metadata": {},
   "outputs": [
    {
     "data": {
      "text/plain": [
       "2.795187377153263"
      ]
     },
     "execution_count": 105,
     "metadata": {},
     "output_type": "execute_result"
    }
   ],
   "source": [
    "from sklearn.metrics import mean_absolute_error\n",
    "mean_absolute_error(y_test, y_pred)"
   ]
  },
  {
   "cell_type": "code",
   "execution_count": 106,
   "metadata": {},
   "outputs": [],
   "source": [
    "# Despite a relatively low number of data points, the mean aboslute error wasn't too bad (2.80 beats per min)\n",
    "# Final insight: go train more so i can get data from a 160km ultramarathon"
   ]
  },
  {
   "cell_type": "code",
   "execution_count": null,
   "metadata": {},
   "outputs": [],
   "source": []
  }
 ],
 "metadata": {
  "kernelspec": {
   "display_name": "Python 3",
   "language": "python",
   "name": "python3"
  },
  "language_info": {
   "codemirror_mode": {
    "name": "ipython",
    "version": 3
   },
   "file_extension": ".py",
   "mimetype": "text/x-python",
   "name": "python",
   "nbconvert_exporter": "python",
   "pygments_lexer": "ipython3",
   "version": "3.7.6"
  }
 },
 "nbformat": 4,
 "nbformat_minor": 4
}
